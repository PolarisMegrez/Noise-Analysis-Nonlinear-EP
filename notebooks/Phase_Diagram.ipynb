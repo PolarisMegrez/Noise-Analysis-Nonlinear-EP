{
    "cells": [
        {
            "cell_type": "markdown",
            "metadata": {},
            "source": [
                "# Phase Diagram Demo\n",
                "\n",
                "This notebook demonstrates solving user-defined complex ODEs with multiple initial conditions, plotting trajectories, and saving all results to a timestamped folder.\n",
                "\n",
                "Steps:\n",
                "- Ensure the src directory is on sys.path for imports\n",
                "- Define paths to the JSON IC file and the vanderpol system\n",
                "- Run the solver via the package's run() function\n",
                "- Preview generated figures"
            ]
        },
        {
            "cell_type": "code",
            "execution_count": null,
            "metadata": {},
            "outputs": [],
            "source": [
                "# Setup import path to use src/ layout\n",
                "import os, sys, pathlib\n",
                "root = pathlib.Path(\"..\").resolve()\n",
                "src = root / \"src\"\n",
                "os.environ.setdefault(\"PYTHONPATH\", str(src))\n",
                "if str(src) not in sys.path:\n",
                "    sys.path.insert(0, str(src))\n",
                "print(\"Using src path:\", src)\n",
                "\n",
                "# Optional: ensure required packages are available\n",
                "import numpy as np\n",
                "import matplotlib.pyplot as plt"
            ]
        },
        {
            "cell_type": "code",
            "execution_count": null,
            "metadata": {},
            "outputs": [],
            "source": [
                "# Configure inputs\n",
                "ic_json = str((root / \"notebooks\" / \"vdp_ic.json\").resolve())\n",
                "system_py = str((root / \"src\" / \"phase_diagram\" / \"systems\" / \"vanderpol.py\").resolve())\n",
                "func_name = \"vanderpol\"\n",
                "\n",
                "print(\"IC JSON:\", ic_json)\n",
                "print(\"System file:\", system_py)\n",
                "print(\"Function:\", func_name)"
            ]
        },
        {
            "cell_type": "code",
            "execution_count": null,
            "metadata": {},
            "outputs": [],
            "source": [
                "# Run the solver and save outputs into a timestamped folder\n",
                "from phase_diagram.main import run\n",
                "run_dir = run(\n",
                "    ic_json=ic_json,\n",
                "    system_py=system_py,\n",
                "    func=func_name,\n",
                "    var_index=0,\n",
                "    mod_i=0,\n",
                "    mod_j=0,\n",
                "    base_out_dir=str(root / \"runs\"),\n",
                "    t_points=1000,\n",
                "    show=False,\n",
                ")\n",
                "print(\"Saved outputs to:\", run_dir)"
            ]
        },
        {
            "cell_type": "code",
            "execution_count": null,
            "metadata": {},
            "outputs": [],
            "source": [
                "# Preview generated figures\n",
                "from IPython.display import Image, display\n",
                "from pathlib import Path\n",
                "figs_dir = Path(run_dir) / \"figs\"\n",
                "for name in [\"phase_trajectories.png\", \"modulus_phase_trajectories.png\"]:\n",
                "    p = figs_dir / name\n",
                "    if p.exists():\n",
                "        display(Image(filename=str(p)))\n",
                "    else:\n",
                "        print(\"Missing figure:\", p)"
            ]
        }
    ],
    "metadata": {
        "kernelspec": {
            "display_name": "Python 3",
            "language": "python",
            "name": "python3"
        },
        "language_info": {
            "codemirror_mode": {
                "name": "ipython",
                "version": 3
            },
            "file_extension": ".py",
            "mimetype": "text/x-python",
            "name": "python",
            "nbconvert_exporter": "python",
            "pygments_lexer": "ipython3",
            "version": "3.8.5"
        }
    },
    "nbformat": 4,
    "nbformat_minor": 4
}
